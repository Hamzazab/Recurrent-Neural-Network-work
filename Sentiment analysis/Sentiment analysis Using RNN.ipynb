{
 "cells": [
  {
   "cell_type": "code",
   "execution_count": 1,
   "id": "8e912b7c",
   "metadata": {},
   "outputs": [],
   "source": [
    "import numpy as np\n",
    "import pandas as pd\n",
    "import tensorflow as tf\n",
    "import nltk\n",
    "import matplotlib.pyplot as plt\n",
    "import seaborn as sns\n",
    "import os\n",
    "import gensim\n",
    "import tensorflow.keras as keras"
   ]
  },
  {
   "cell_type": "code",
   "execution_count": 2,
   "id": "97011e2b",
   "metadata": {},
   "outputs": [],
   "source": [
    "imdb_reviews = pd.read_csv(r'C:\\Users\\Hamza\\Sentiment analysis\\imdb_reviews.csv')\n",
    "test_reviews = pd.read_csv(r'C:\\Users\\Hamza\\Sentiment analysis\\test_reviews.csv')"
   ]
  },
  {
   "cell_type": "code",
   "execution_count": 36,
   "id": "740f5a69",
   "metadata": {},
   "outputs": [
    {
     "data": {
      "text/html": [
       "<div>\n",
       "<style scoped>\n",
       "    .dataframe tbody tr th:only-of-type {\n",
       "        vertical-align: middle;\n",
       "    }\n",
       "\n",
       "    .dataframe tbody tr th {\n",
       "        vertical-align: top;\n",
       "    }\n",
       "\n",
       "    .dataframe thead th {\n",
       "        text-align: right;\n",
       "    }\n",
       "</style>\n",
       "<table border=\"1\" class=\"dataframe\">\n",
       "  <thead>\n",
       "    <tr style=\"text-align: right;\">\n",
       "      <th></th>\n",
       "      <th>Reviews</th>\n",
       "      <th>Sentiment</th>\n",
       "    </tr>\n",
       "  </thead>\n",
       "  <tbody>\n",
       "    <tr>\n",
       "      <th>0</th>\n",
       "      <td>&lt;START this film was just brilliant casting lo...</td>\n",
       "      <td>positive</td>\n",
       "    </tr>\n",
       "    <tr>\n",
       "      <th>1</th>\n",
       "      <td>&lt;START big hair big boobs bad music and a gian...</td>\n",
       "      <td>negative</td>\n",
       "    </tr>\n",
       "    <tr>\n",
       "      <th>2</th>\n",
       "      <td>&lt;START this has to be one of the worst films o...</td>\n",
       "      <td>negative</td>\n",
       "    </tr>\n",
       "    <tr>\n",
       "      <th>3</th>\n",
       "      <td>&lt;START the &lt;UNK&gt; &lt;UNK&gt; at storytelling the tra...</td>\n",
       "      <td>positive</td>\n",
       "    </tr>\n",
       "    <tr>\n",
       "      <th>4</th>\n",
       "      <td>&lt;START worst mistake of my life br br i picked...</td>\n",
       "      <td>negative</td>\n",
       "    </tr>\n",
       "  </tbody>\n",
       "</table>\n",
       "</div>"
      ],
      "text/plain": [
       "                                             Reviews Sentiment\n",
       "0  <START this film was just brilliant casting lo...  positive\n",
       "1  <START big hair big boobs bad music and a gian...  negative\n",
       "2  <START this has to be one of the worst films o...  negative\n",
       "3  <START the <UNK> <UNK> at storytelling the tra...  positive\n",
       "4  <START worst mistake of my life br br i picked...  negative"
      ]
     },
     "execution_count": 36,
     "metadata": {},
     "output_type": "execute_result"
    }
   ],
   "source": [
    "imdb_reviews.head()"
   ]
  },
  {
   "cell_type": "code",
   "execution_count": 4,
   "id": "0c81ee37",
   "metadata": {},
   "outputs": [],
   "source": [
    "#Data Preprocesing\n",
    "word_index = pd.read_csv(r'C:\\Users\\Hamza\\Sentiment analysis\\word_indexes.csv')"
   ]
  },
  {
   "cell_type": "code",
   "execution_count": 5,
   "id": "609ea860",
   "metadata": {},
   "outputs": [
    {
     "data": {
      "text/html": [
       "<div>\n",
       "<style scoped>\n",
       "    .dataframe tbody tr th:only-of-type {\n",
       "        vertical-align: middle;\n",
       "    }\n",
       "\n",
       "    .dataframe tbody tr th {\n",
       "        vertical-align: top;\n",
       "    }\n",
       "\n",
       "    .dataframe thead th {\n",
       "        text-align: right;\n",
       "    }\n",
       "</style>\n",
       "<table border=\"1\" class=\"dataframe\">\n",
       "  <thead>\n",
       "    <tr style=\"text-align: right;\">\n",
       "      <th></th>\n",
       "      <th>Words</th>\n",
       "      <th>Indexes</th>\n",
       "    </tr>\n",
       "  </thead>\n",
       "  <tbody>\n",
       "    <tr>\n",
       "      <th>0</th>\n",
       "      <td>tsukino</td>\n",
       "      <td>52009</td>\n",
       "    </tr>\n",
       "    <tr>\n",
       "      <th>1</th>\n",
       "      <td>nunnery</td>\n",
       "      <td>52010</td>\n",
       "    </tr>\n",
       "    <tr>\n",
       "      <th>2</th>\n",
       "      <td>sonja</td>\n",
       "      <td>16819</td>\n",
       "    </tr>\n",
       "    <tr>\n",
       "      <th>3</th>\n",
       "      <td>vani</td>\n",
       "      <td>63954</td>\n",
       "    </tr>\n",
       "    <tr>\n",
       "      <th>4</th>\n",
       "      <td>woods</td>\n",
       "      <td>1411</td>\n",
       "    </tr>\n",
       "  </tbody>\n",
       "</table>\n",
       "</div>"
      ],
      "text/plain": [
       "     Words  Indexes\n",
       "0  tsukino    52009\n",
       "1  nunnery    52010\n",
       "2    sonja    16819\n",
       "3     vani    63954\n",
       "4    woods     1411"
      ]
     },
     "execution_count": 5,
     "metadata": {},
     "output_type": "execute_result"
    }
   ],
   "source": [
    "word_index.head()"
   ]
  },
  {
   "cell_type": "code",
   "execution_count": 6,
   "id": "f5139e2d",
   "metadata": {},
   "outputs": [],
   "source": [
    "word_index=dict(zip(word_index.Words,word_index.Indexes))"
   ]
  },
  {
   "cell_type": "code",
   "execution_count": 7,
   "id": "eaf0b07c",
   "metadata": {},
   "outputs": [],
   "source": [
    "word_index[\"<PAD>\"]=0\n",
    "word_index[\"<START\"]=1\n",
    "word_index[\"<UNK>\"]=2\n",
    "word_index[\"<UNUSED>\"]=3"
   ]
  },
  {
   "cell_type": "code",
   "execution_count": 8,
   "id": "a55d21c5",
   "metadata": {},
   "outputs": [],
   "source": [
    "#Now we define a function review_encoder that encodes the reviews into integer format according to the mapping specified by word_index file.\n",
    "def review_encoder(text):\n",
    "  arr=[word_index[word] for word in text]\n",
    "  return arr\n"
   ]
  },
  {
   "cell_type": "code",
   "execution_count": 9,
   "id": "4e6c0346",
   "metadata": {},
   "outputs": [],
   "source": [
    "train_data,train_labels=imdb_reviews['Reviews'],imdb_reviews['Sentiment']\n",
    "test_data, test_labels=test_reviews['Reviews'],test_reviews['Sentiment']"
   ]
  },
  {
   "cell_type": "code",
   "execution_count": 10,
   "id": "72456018",
   "metadata": {},
   "outputs": [],
   "source": [
    "#Before transforming the reviews as integers we need to tokenize or split the review on the basis of whitespaces\n",
    "#For eg.the string \"The movie was wonderful\" becomes [\"The\" , \"movie\" , \"was\" , \"wonderful\" ].\n",
    "\n",
    "train_data=train_data.apply(lambda review:review.split())\n",
    "test_data=test_data.apply(lambda review:review.split())"
   ]
  },
  {
   "cell_type": "code",
   "execution_count": 11,
   "id": "4b1eafec",
   "metadata": {},
   "outputs": [],
   "source": [
    "#Since we have tokenized the reviews now we can apply the review_encoder function to each review and transform the reviews into integer format.\n",
    "train_data=train_data.apply(review_encoder)\n",
    "test_data=test_data.apply(review_encoder)"
   ]
  },
  {
   "cell_type": "code",
   "execution_count": 12,
   "id": "aa4a78b5",
   "metadata": {},
   "outputs": [
    {
     "data": {
      "text/plain": [
       "0    [1, 14, 22, 16, 43, 530, 973, 1622, 1385, 65, ...\n",
       "1    [1, 194, 1153, 194, 8255, 78, 228, 5, 6, 1463,...\n",
       "2    [1, 14, 47, 8, 30, 31, 7, 4, 249, 108, 7, 4, 5...\n",
       "3    [1, 4, 2, 2, 33, 2804, 4, 2040, 432, 111, 153,...\n",
       "4    [1, 249, 1323, 7, 61, 113, 10, 10, 13, 1637, 1...\n",
       "Name: Reviews, dtype: object"
      ]
     },
     "execution_count": 12,
     "metadata": {},
     "output_type": "execute_result"
    }
   ],
   "source": [
    "train_data.head()"
   ]
  },
  {
   "cell_type": "code",
   "execution_count": 13,
   "id": "49193e31",
   "metadata": {},
   "outputs": [],
   "source": [
    "#We also need to encode the sentiments and we are labeling the positive sentiment as 1 and negative sentiment as 0.\n",
    "def encode_sentiments(x):\n",
    "  if x=='positive':\n",
    "    return 1\n",
    "  else:\n",
    "    return 0\n"
   ]
  },
  {
   "cell_type": "code",
   "execution_count": 14,
   "id": "4dfeb2ac",
   "metadata": {},
   "outputs": [],
   "source": [
    "train_labels=train_labels.apply(encode_sentiments)\n",
    "test_labels=test_labels.apply(encode_sentiments)"
   ]
  },
  {
   "cell_type": "code",
   "execution_count": 15,
   "id": "f9c8aa1c",
   "metadata": {},
   "outputs": [],
   "source": [
    "train_data=keras.preprocessing.sequence.pad_sequences(train_data,value=word_index[\"<PAD>\"],padding='post',maxlen=500)\n",
    "test_data=keras.preprocessing.sequence.pad_sequences(test_data,value=word_index[\"<PAD>\"],padding='post',maxlen=500)"
   ]
  },
  {
   "cell_type": "code",
   "execution_count": 17,
   "id": "42053974",
   "metadata": {},
   "outputs": [],
   "source": [
    "model=keras.Sequential([keras.layers.Embedding(10000,16,input_length=500),\n",
    "                        keras.layers.GlobalAveragePooling1D(),\n",
    "                        keras.layers.Dense(16,activation='relu'),\n",
    "                        keras.layers.Dense(1,activation='sigmoid')])"
   ]
  },
  {
   "cell_type": "code",
   "execution_count": 18,
   "id": "f148204c",
   "metadata": {},
   "outputs": [],
   "source": [
    "model.compile(optimizer='adam',loss='binary_crossentropy',metrics=['accuracy'])"
   ]
  },
  {
   "cell_type": "code",
   "execution_count": 19,
   "id": "f6bd2053",
   "metadata": {},
   "outputs": [
    {
     "name": "stdout",
     "output_type": "stream",
     "text": [
      "Model: \"sequential\"\n",
      "_________________________________________________________________\n",
      " Layer (type)                Output Shape              Param #   \n",
      "=================================================================\n",
      " embedding (Embedding)       (None, 500, 16)           160000    \n",
      "                                                                 \n",
      " global_average_pooling1d (G  (None, 16)               0         \n",
      " lobalAveragePooling1D)                                          \n",
      "                                                                 \n",
      " dense (Dense)               (None, 16)                272       \n",
      "                                                                 \n",
      " dense_1 (Dense)             (None, 1)                 17        \n",
      "                                                                 \n",
      "=================================================================\n",
      "Total params: 160,289\n",
      "Trainable params: 160,289\n",
      "Non-trainable params: 0\n",
      "_________________________________________________________________\n"
     ]
    }
   ],
   "source": [
    "model.summary()"
   ]
  },
  {
   "cell_type": "code",
   "execution_count": 20,
   "id": "e5d7dada",
   "metadata": {},
   "outputs": [
    {
     "name": "stdout",
     "output_type": "stream",
     "text": [
      "Epoch 1/30\n",
      "49/49 [==============================] - 3s 51ms/step - loss: 0.6930 - accuracy: 0.5498 - val_loss: 0.6925 - val_accuracy: 0.5929\n",
      "Epoch 2/30\n",
      "49/49 [==============================] - 2s 45ms/step - loss: 0.6911 - accuracy: 0.6942 - val_loss: 0.6891 - val_accuracy: 0.6374\n",
      "Epoch 3/30\n",
      "49/49 [==============================] - 3s 54ms/step - loss: 0.6838 - accuracy: 0.7063 - val_loss: 0.6775 - val_accuracy: 0.7254\n",
      "Epoch 4/30\n",
      "49/49 [==============================] - 3s 51ms/step - loss: 0.6636 - accuracy: 0.7551 - val_loss: 0.6502 - val_accuracy: 0.7558\n",
      "Epoch 5/30\n",
      "49/49 [==============================] - 2s 45ms/step - loss: 0.6252 - accuracy: 0.7819 - val_loss: 0.6075 - val_accuracy: 0.7795\n",
      "Epoch 6/30\n",
      "49/49 [==============================] - 2s 48ms/step - loss: 0.5745 - accuracy: 0.7993 - val_loss: 0.5584 - val_accuracy: 0.7983\n",
      "Epoch 7/30\n",
      "49/49 [==============================] - 2s 46ms/step - loss: 0.5194 - accuracy: 0.8250 - val_loss: 0.5095 - val_accuracy: 0.8193\n",
      "Epoch 8/30\n",
      "49/49 [==============================] - 2s 48ms/step - loss: 0.4676 - accuracy: 0.8458 - val_loss: 0.4670 - val_accuracy: 0.8263\n",
      "Epoch 9/30\n",
      "49/49 [==============================] - 2s 50ms/step - loss: 0.4228 - accuracy: 0.8598 - val_loss: 0.4297 - val_accuracy: 0.8460\n",
      "Epoch 10/30\n",
      "49/49 [==============================] - 2s 51ms/step - loss: 0.3852 - accuracy: 0.8713 - val_loss: 0.3998 - val_accuracy: 0.8545\n",
      "Epoch 11/30\n",
      "49/49 [==============================] - 2s 47ms/step - loss: 0.3541 - accuracy: 0.8799 - val_loss: 0.3759 - val_accuracy: 0.8610\n",
      "Epoch 12/30\n",
      "49/49 [==============================] - 2s 45ms/step - loss: 0.3284 - accuracy: 0.8866 - val_loss: 0.3575 - val_accuracy: 0.8652\n",
      "Epoch 13/30\n",
      "49/49 [==============================] - 2s 47ms/step - loss: 0.3078 - accuracy: 0.8917 - val_loss: 0.3433 - val_accuracy: 0.8679\n",
      "Epoch 14/30\n",
      "49/49 [==============================] - 2s 45ms/step - loss: 0.2904 - accuracy: 0.8983 - val_loss: 0.3318 - val_accuracy: 0.8716\n",
      "Epoch 15/30\n",
      "49/49 [==============================] - 2s 47ms/step - loss: 0.2753 - accuracy: 0.9028 - val_loss: 0.3226 - val_accuracy: 0.8737\n",
      "Epoch 16/30\n",
      "49/49 [==============================] - 2s 50ms/step - loss: 0.2624 - accuracy: 0.9072 - val_loss: 0.3150 - val_accuracy: 0.8760\n",
      "Epoch 17/30\n",
      "49/49 [==============================] - 3s 52ms/step - loss: 0.2513 - accuracy: 0.9115 - val_loss: 0.3090 - val_accuracy: 0.8775\n",
      "Epoch 18/30\n",
      "49/49 [==============================] - 2s 50ms/step - loss: 0.2410 - accuracy: 0.9141 - val_loss: 0.3034 - val_accuracy: 0.8800\n",
      "Epoch 19/30\n",
      "49/49 [==============================] - 3s 55ms/step - loss: 0.2319 - accuracy: 0.9191 - val_loss: 0.2991 - val_accuracy: 0.8808\n",
      "Epoch 20/30\n",
      "49/49 [==============================] - 3s 59ms/step - loss: 0.2233 - accuracy: 0.9218 - val_loss: 0.2956 - val_accuracy: 0.8828\n",
      "Epoch 21/30\n",
      "49/49 [==============================] - 2s 48ms/step - loss: 0.2160 - accuracy: 0.9244 - val_loss: 0.2952 - val_accuracy: 0.8816\n",
      "Epoch 22/30\n",
      "49/49 [==============================] - 2s 45ms/step - loss: 0.2089 - accuracy: 0.9268 - val_loss: 0.2921 - val_accuracy: 0.8825\n",
      "Epoch 23/30\n",
      "49/49 [==============================] - 2s 44ms/step - loss: 0.2017 - accuracy: 0.9297 - val_loss: 0.2891 - val_accuracy: 0.8850\n",
      "Epoch 24/30\n",
      "49/49 [==============================] - 2s 44ms/step - loss: 0.1954 - accuracy: 0.9326 - val_loss: 0.2884 - val_accuracy: 0.8847\n",
      "Epoch 25/30\n",
      "49/49 [==============================] - 2s 44ms/step - loss: 0.1900 - accuracy: 0.9340 - val_loss: 0.2863 - val_accuracy: 0.8860\n",
      "Epoch 26/30\n",
      "49/49 [==============================] - 2s 45ms/step - loss: 0.1841 - accuracy: 0.9367 - val_loss: 0.2878 - val_accuracy: 0.8857\n",
      "Epoch 27/30\n",
      "49/49 [==============================] - 2s 44ms/step - loss: 0.1792 - accuracy: 0.9386 - val_loss: 0.2887 - val_accuracy: 0.8848\n",
      "Epoch 28/30\n",
      "49/49 [==============================] - 2s 43ms/step - loss: 0.1741 - accuracy: 0.9400 - val_loss: 0.2861 - val_accuracy: 0.8862\n",
      "Epoch 29/30\n",
      "49/49 [==============================] - 2s 44ms/step - loss: 0.1695 - accuracy: 0.9428 - val_loss: 0.2869 - val_accuracy: 0.8855\n",
      "Epoch 30/30\n",
      "49/49 [==============================] - 2s 45ms/step - loss: 0.1648 - accuracy: 0.9443 - val_loss: 0.2864 - val_accuracy: 0.8867\n"
     ]
    }
   ],
   "source": [
    "#training the model\n",
    "history=model.fit(train_data,train_labels,epochs=30,batch_size=512,validation_data=(test_data,test_labels))"
   ]
  },
  {
   "cell_type": "code",
   "execution_count": 21,
   "id": "20dd44f9",
   "metadata": {},
   "outputs": [
    {
     "name": "stdout",
     "output_type": "stream",
     "text": [
      "782/782 [==============================] - 2s 2ms/step - loss: 0.2864 - accuracy: 0.8867\n"
     ]
    }
   ],
   "source": [
    "loss,accuracy=model.evaluate(test_data,test_labels)"
   ]
  },
  {
   "cell_type": "code",
   "execution_count": 22,
   "id": "b5618f5d",
   "metadata": {},
   "outputs": [
    {
     "name": "stdout",
     "output_type": "stream",
     "text": [
      "Reviews      <START i thoroughly enjoyed <UNK> <UNK> story ...\n",
      "Sentiment                                             positive\n",
      "Name: 361, dtype: object\n"
     ]
    }
   ],
   "source": [
    "index=np.random.randint(1,1000)\n",
    "user_review=test_reviews.loc[index]\n",
    "print(user_review)\n"
   ]
  },
  {
   "cell_type": "code",
   "execution_count": 23,
   "id": "02870456",
   "metadata": {},
   "outputs": [
    {
     "name": "stdout",
     "output_type": "stream",
     "text": [
      "positive sentiment\n"
     ]
    }
   ],
   "source": [
    "user_review=test_data[index]\n",
    "user_review=np.array([user_review])\n",
    "if (model.predict(user_review)>0.5).astype(\"int32\"):\n",
    "  print(\"positive sentiment\")\n",
    "else:\n",
    "  print(\"negative sentiment\")\n"
   ]
  },
  {
   "cell_type": "code",
   "execution_count": 24,
   "id": "e43c1a5b",
   "metadata": {},
   "outputs": [],
   "source": [
    "y_pred = model.predict(test_data)"
   ]
  },
  {
   "cell_type": "code",
   "execution_count": 33,
   "id": "c7be610c",
   "metadata": {},
   "outputs": [
    {
     "name": "stdout",
     "output_type": "stream",
     "text": [
      "[0.99585056]\n"
     ]
    }
   ],
   "source": [
    "print(y_pred[40])"
   ]
  },
  {
   "cell_type": "code",
   "execution_count": null,
   "id": "3be2a800",
   "metadata": {},
   "outputs": [],
   "source": []
  }
 ],
 "metadata": {
  "kernelspec": {
   "display_name": "Python 3 (ipykernel)",
   "language": "python",
   "name": "python3"
  },
  "language_info": {
   "codemirror_mode": {
    "name": "ipython",
    "version": 3
   },
   "file_extension": ".py",
   "mimetype": "text/x-python",
   "name": "python",
   "nbconvert_exporter": "python",
   "pygments_lexer": "ipython3",
   "version": "3.10.9"
  }
 },
 "nbformat": 4,
 "nbformat_minor": 5
}
